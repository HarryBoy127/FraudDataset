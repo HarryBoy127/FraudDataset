{
 "cells": [
  {
   "cell_type": "code",
   "execution_count": 2,
   "metadata": {},
   "outputs": [],
   "source": [
    "import pandas as pd\n",
    "import numpy as np\n",
    "import matplotlib.pyplot as plt\n",
    "import seaborn as sns\n",
    "\n",
    "from sklearn.preprocessing import LabelEncoder\n",
    "from sklearn.model_selection import train_test_split\n",
    "\n",
    "from sklearn.linear_model import LogisticRegression\n",
    "from sklearn.tree import DecisionTreeClassifier\n",
    "from sklearn.ensemble import RandomForestClassifier\n",
    "from sklearn.metrics import classification_report\n",
    "\n",
    "from sklearn.metrics import precision_recall_curve, auc\n",
    "from sklearn.pipeline import Pipeline\n",
    "from sklearn.ensemble import RandomForestRegressor, GradientBoostingRegressor\n",
    "from sklearn.metrics import make_scorer, accuracy_score\n",
    "from sklearn.model_selection import GridSearchCV\n",
    "from sklearn.metrics import roc_auc_score\n"
   ]
  },
  {
   "cell_type": "code",
   "execution_count": 3,
   "metadata": {},
   "outputs": [
    {
     "data": {
      "text/html": [
       "<div>\n",
       "<style scoped>\n",
       "    .dataframe tbody tr th:only-of-type {\n",
       "        vertical-align: middle;\n",
       "    }\n",
       "\n",
       "    .dataframe tbody tr th {\n",
       "        vertical-align: top;\n",
       "    }\n",
       "\n",
       "    .dataframe thead th {\n",
       "        text-align: right;\n",
       "    }\n",
       "</style>\n",
       "<table border=\"1\" class=\"dataframe\">\n",
       "  <thead>\n",
       "    <tr style=\"text-align: right;\">\n",
       "      <th></th>\n",
       "      <th>Unnamed: 0</th>\n",
       "      <th>payment_type</th>\n",
       "      <th>amount</th>\n",
       "      <th>original_owner_id</th>\n",
       "      <th>old_balance_original</th>\n",
       "      <th>new_balance_original</th>\n",
       "      <th>destination_account_id</th>\n",
       "      <th>old_balance_destination</th>\n",
       "      <th>new_balance_destination</th>\n",
       "      <th>isFraud</th>\n",
       "    </tr>\n",
       "  </thead>\n",
       "  <tbody>\n",
       "    <tr>\n",
       "      <th>0</th>\n",
       "      <td>14</td>\n",
       "      <td>PAYMENT</td>\n",
       "      <td>4098.78</td>\n",
       "      <td>C1026483832</td>\n",
       "      <td>503264.00</td>\n",
       "      <td>499165.22</td>\n",
       "      <td>M1635378213</td>\n",
       "      <td>0.0</td>\n",
       "      <td>0.0</td>\n",
       "      <td>0</td>\n",
       "    </tr>\n",
       "    <tr>\n",
       "      <th>1</th>\n",
       "      <td>62</td>\n",
       "      <td>DEBIT</td>\n",
       "      <td>8727.74</td>\n",
       "      <td>C166694583</td>\n",
       "      <td>882770.00</td>\n",
       "      <td>874042.26</td>\n",
       "      <td>C1129670968</td>\n",
       "      <td>12636.0</td>\n",
       "      <td>0.0</td>\n",
       "      <td>0</td>\n",
       "    </tr>\n",
       "    <tr>\n",
       "      <th>2</th>\n",
       "      <td>63</td>\n",
       "      <td>PAYMENT</td>\n",
       "      <td>2599.46</td>\n",
       "      <td>C885910946</td>\n",
       "      <td>874042.26</td>\n",
       "      <td>871442.79</td>\n",
       "      <td>M1860591867</td>\n",
       "      <td>0.0</td>\n",
       "      <td>0.0</td>\n",
       "      <td>0</td>\n",
       "    </tr>\n",
       "    <tr>\n",
       "      <th>3</th>\n",
       "      <td>241</td>\n",
       "      <td>PAYMENT</td>\n",
       "      <td>4635.18</td>\n",
       "      <td>C1110698130</td>\n",
       "      <td>6313782.05</td>\n",
       "      <td>6309146.87</td>\n",
       "      <td>M125644421</td>\n",
       "      <td>0.0</td>\n",
       "      <td>0.0</td>\n",
       "      <td>0</td>\n",
       "    </tr>\n",
       "    <tr>\n",
       "      <th>4</th>\n",
       "      <td>242</td>\n",
       "      <td>PAYMENT</td>\n",
       "      <td>1267.97</td>\n",
       "      <td>C1053632127</td>\n",
       "      <td>6309146.87</td>\n",
       "      <td>6307878.90</td>\n",
       "      <td>M1493158871</td>\n",
       "      <td>0.0</td>\n",
       "      <td>0.0</td>\n",
       "      <td>0</td>\n",
       "    </tr>\n",
       "  </tbody>\n",
       "</table>\n",
       "</div>"
      ],
      "text/plain": [
       "   Unnamed: 0 payment_type   amount original_owner_id  old_balance_original  \\\n",
       "0          14      PAYMENT  4098.78       C1026483832             503264.00   \n",
       "1          62        DEBIT  8727.74        C166694583             882770.00   \n",
       "2          63      PAYMENT  2599.46        C885910946             874042.26   \n",
       "3         241      PAYMENT  4635.18       C1110698130            6313782.05   \n",
       "4         242      PAYMENT  1267.97       C1053632127            6309146.87   \n",
       "\n",
       "   new_balance_original destination_account_id  old_balance_destination  \\\n",
       "0             499165.22            M1635378213                      0.0   \n",
       "1             874042.26            C1129670968                  12636.0   \n",
       "2             871442.79            M1860591867                      0.0   \n",
       "3            6309146.87             M125644421                      0.0   \n",
       "4            6307878.90            M1493158871                      0.0   \n",
       "\n",
       "   new_balance_destination  isFraud  \n",
       "0                      0.0        0  \n",
       "1                      0.0        0  \n",
       "2                      0.0        0  \n",
       "3                      0.0        0  \n",
       "4                      0.0        0  "
      ]
     },
     "execution_count": 3,
     "metadata": {},
     "output_type": "execute_result"
    }
   ],
   "source": [
    "df = pd.read_csv(\"../../data/processed/fraud_clean.csv\")\n",
    "df.head()"
   ]
  },
  {
   "cell_type": "code",
   "execution_count": 4,
   "metadata": {},
   "outputs": [
    {
     "data": {
      "text/plain": [
       "Index(['Unnamed: 0', 'payment_type', 'amount', 'original_owner_id',\n",
       "       'old_balance_original', 'new_balance_original',\n",
       "       'destination_account_id', 'old_balance_destination',\n",
       "       'new_balance_destination', 'isFraud'],\n",
       "      dtype='object')"
      ]
     },
     "execution_count": 4,
     "metadata": {},
     "output_type": "execute_result"
    }
   ],
   "source": [
    "df.columns"
   ]
  },
  {
   "cell_type": "code",
   "execution_count": 5,
   "metadata": {},
   "outputs": [
    {
     "data": {
      "text/plain": [
       "Index(['payment_type', 'amount', 'old_balance_original',\n",
       "       'new_balance_original', 'old_balance_destination',\n",
       "       'new_balance_destination', 'isFraud'],\n",
       "      dtype='object')"
      ]
     },
     "execution_count": 5,
     "metadata": {},
     "output_type": "execute_result"
    }
   ],
   "source": [
    "# drop columns, we don't need\n",
    "df_drop = df.copy()\n",
    "df_drop.drop(['Unnamed: 0', 'original_owner_id','destination_account_id'], axis = 1, inplace = True)\n",
    "df_drop.columns"
   ]
  },
  {
   "cell_type": "code",
   "execution_count": 6,
   "metadata": {},
   "outputs": [],
   "source": [
    "### Build model"
   ]
  },
  {
   "cell_type": "code",
   "execution_count": 7,
   "metadata": {},
   "outputs": [],
   "source": [
    "df_model = df_drop.copy()"
   ]
  },
  {
   "cell_type": "code",
   "execution_count": 8,
   "metadata": {},
   "outputs": [],
   "source": [
    "\n",
    "encoder = LabelEncoder()\n",
    "\n",
    "columns = df_model.columns\n",
    "\n",
    "for i in columns:\n",
    "    df_model[i] = encoder.fit_transform(df_model[i])"
   ]
  },
  {
   "cell_type": "code",
   "execution_count": 9,
   "metadata": {},
   "outputs": [
    {
     "data": {
      "text/html": [
       "<div>\n",
       "<style scoped>\n",
       "    .dataframe tbody tr th:only-of-type {\n",
       "        vertical-align: middle;\n",
       "    }\n",
       "\n",
       "    .dataframe tbody tr th {\n",
       "        vertical-align: top;\n",
       "    }\n",
       "\n",
       "    .dataframe thead th {\n",
       "        text-align: right;\n",
       "    }\n",
       "</style>\n",
       "<table border=\"1\" class=\"dataframe\">\n",
       "  <thead>\n",
       "    <tr style=\"text-align: right;\">\n",
       "      <th></th>\n",
       "      <th>payment_type</th>\n",
       "      <th>amount</th>\n",
       "      <th>old_balance_original</th>\n",
       "      <th>new_balance_original</th>\n",
       "      <th>old_balance_destination</th>\n",
       "      <th>new_balance_destination</th>\n",
       "      <th>isFraud</th>\n",
       "    </tr>\n",
       "  </thead>\n",
       "  <tbody>\n",
       "    <tr>\n",
       "      <th>0</th>\n",
       "      <td>3</td>\n",
       "      <td>7570</td>\n",
       "      <td>7775</td>\n",
       "      <td>10731</td>\n",
       "      <td>0</td>\n",
       "      <td>0</td>\n",
       "      <td>0</td>\n",
       "    </tr>\n",
       "    <tr>\n",
       "      <th>1</th>\n",
       "      <td>2</td>\n",
       "      <td>15469</td>\n",
       "      <td>36942</td>\n",
       "      <td>33361</td>\n",
       "      <td>860</td>\n",
       "      <td>0</td>\n",
       "      <td>0</td>\n",
       "    </tr>\n",
       "    <tr>\n",
       "      <th>2</th>\n",
       "      <td>3</td>\n",
       "      <td>4775</td>\n",
       "      <td>36553</td>\n",
       "      <td>33242</td>\n",
       "      <td>0</td>\n",
       "      <td>0</td>\n",
       "      <td>0</td>\n",
       "    </tr>\n",
       "    <tr>\n",
       "      <th>3</th>\n",
       "      <td>3</td>\n",
       "      <td>8539</td>\n",
       "      <td>132123</td>\n",
       "      <td>130405</td>\n",
       "      <td>0</td>\n",
       "      <td>0</td>\n",
       "      <td>0</td>\n",
       "    </tr>\n",
       "    <tr>\n",
       "      <th>4</th>\n",
       "      <td>3</td>\n",
       "      <td>2301</td>\n",
       "      <td>132070</td>\n",
       "      <td>130387</td>\n",
       "      <td>0</td>\n",
       "      <td>0</td>\n",
       "      <td>0</td>\n",
       "    </tr>\n",
       "  </tbody>\n",
       "</table>\n",
       "</div>"
      ],
      "text/plain": [
       "   payment_type  amount  old_balance_original  new_balance_original  \\\n",
       "0             3    7570                  7775                 10731   \n",
       "1             2   15469                 36942                 33361   \n",
       "2             3    4775                 36553                 33242   \n",
       "3             3    8539                132123                130405   \n",
       "4             3    2301                132070                130387   \n",
       "\n",
       "   old_balance_destination  new_balance_destination  isFraud  \n",
       "0                        0                        0        0  \n",
       "1                      860                        0        0  \n",
       "2                        0                        0        0  \n",
       "3                        0                        0        0  \n",
       "4                        0                        0        0  "
      ]
     },
     "execution_count": 9,
     "metadata": {},
     "output_type": "execute_result"
    }
   ],
   "source": [
    "df_model.head()"
   ]
  },
  {
   "cell_type": "code",
   "execution_count": 10,
   "metadata": {},
   "outputs": [
    {
     "data": {
      "text/plain": [
       "isFraud\n",
       "0    192140\n",
       "1        44\n",
       "Name: count, dtype: int64"
      ]
     },
     "execution_count": 10,
     "metadata": {},
     "output_type": "execute_result"
    }
   ],
   "source": [
    "df_model['isFraud'].value_counts()"
   ]
  },
  {
   "cell_type": "code",
   "execution_count": 11,
   "metadata": {},
   "outputs": [],
   "source": [
    "X = df_model.drop(['isFraud'], axis= 1)\n",
    "y = df_model['isFraud']"
   ]
  },
  {
   "cell_type": "code",
   "execution_count": 12,
   "metadata": {},
   "outputs": [],
   "source": [
    "x_train, x_test, y_train, y_test = train_test_split(X, y, train_size = 0.7, random_state = 10)"
   ]
  },
  {
   "cell_type": "code",
   "execution_count": 13,
   "metadata": {},
   "outputs": [],
   "source": [
    "lr = LogisticRegression()\n",
    "lr_model = lr.fit(x_train, y_train)\n",
    "y_pred = lr_model.predict(x_test)"
   ]
  },
  {
   "cell_type": "code",
   "execution_count": 14,
   "metadata": {},
   "outputs": [
    {
     "data": {
      "image/png": "[encoded data removed]",
      "text/plain": [
       "<Figure size 640x480 with 1 Axes>"
      ]
     },
     "metadata": {},
     "output_type": "display_data"
    },
    {
     "name": "stdout",
     "output_type": "stream",
     "text": [
      "AUPRC =  0.694513821439033\n"
     ]
    }
   ],
   "source": [
    "precision, recall, thresholds = precision_recall_curve(y_test, y_pred)\n",
    "auprc = auc(recall, precision)\n",
    "\n",
    "# Plotting AUPRC\n",
    "plt.plot(recall, precision)\n",
    "plt.xlabel('Recall')\n",
    "plt.ylabel('Precision')\n",
    "plt.title('Precision-Recall Curve')\n",
    "plt.show()\n",
    "\n",
    "print('AUPRC = ', auprc)"
   ]
  },
  {
   "cell_type": "code",
   "execution_count": 15,
   "metadata": {},
   "outputs": [
    {
     "data": {
      "image/png": "[encoded data removed]",
      "text/plain": [
       "<Figure size 640x480 with 1 Axes>"
      ]
     },
     "metadata": {},
     "output_type": "display_data"
    },
    {
     "name": "stdout",
     "output_type": "stream",
     "text": [
      "AUPRC =  0.6696948898887987\n"
     ]
    }
   ],
   "source": [
    "dt = DecisionTreeClassifier()\n",
    "\n",
    "dt_model = dt.fit(x_train, y_train)\n",
    "y_preddt = dt_model.predict(x_test)\n",
    "precision, recall, thresolds = precision_recall_curve(y_test, y_preddt)\n",
    "auprc = auc(recall, precision)\n",
    "\n",
    "# Plotting AUPRC\n",
    "plt.plot(recall, precision)\n",
    "plt.xlabel('Recall')\n",
    "plt.ylabel('Precision')\n",
    "plt.title('Precision-Recall Curve')\n",
    "plt.show()\n",
    "\n",
    "print('AUPRC = ', auprc)"
   ]
  },
  {
   "cell_type": "code",
   "execution_count": 16,
   "metadata": {},
   "outputs": [
    {
     "data": {
      "image/png": "[encoded data removed]",
      "text/plain": [
       "<Figure size 640x480 with 1 Axes>"
      ]
     },
     "metadata": {},
     "output_type": "display_data"
    },
    {
     "name": "stdout",
     "output_type": "stream",
     "text": [
      "AUPRC =  0.7310331968919106\n"
     ]
    }
   ],
   "source": [
    "\n",
    "rf = RandomForestClassifier()\n",
    "\n",
    "rf_model = rf.fit(x_train, y_train)\n",
    "y_predrf = rf_model.predict(x_test)\n",
    "precision, recall, thresholds = precision_recall_curve(y_test, y_predrf)\n",
    "auprc = auc(precision, recall)\n",
    "\n",
    "# Plotting AUPRC\n",
    "plt.plot(recall, precision)\n",
    "plt.xlabel('Recall')\n",
    "plt.ylabel('Precision')\n",
    "plt.title('Precision-Recall Curve')\n",
    "plt.show()\n",
    "\n",
    "print('AUPRC = ', auprc)"
   ]
  },
  {
   "cell_type": "code",
   "execution_count": 17,
   "metadata": {},
   "outputs": [
    {
     "data": {
      "text/plain": [
       "'\\nparam_grid = {\\n    \\'n_estimators\\': [60, 90],\\n    \\'max_depth\\': [3,5,7],\\n    \\'min_samples_split\\': [2, 5],\\n    \\'min_samples_leaf\\': [1, 2],\\n    \\'max_features\\': [\\'sqrt\\', \\'log2\\', None]\\n} # Defining parameter grid for Grid Search\\n\\nRFC = RandomForestClassifier(class_weight=\"balanced\", random_state=42) # Intializing Classifier\\n\\ngrid_search = GridSearchCV(RFC, param_grid, scoring=\"f1\", cv=5, n_jobs=-1, verbose=3) # Applying a GridSearch over the Parameter Grid, whilst scoring on F1 Score\\ngrid_search.fit(X_train, y_train)\\n\\nbest_params = grid_search.best_params_ # Extracting Best Hyperparameters\\nprint(best_params)\\nprint(grid_search.best_score_)\\n'"
      ]
     },
     "execution_count": 17,
     "metadata": {},
     "output_type": "execute_result"
    }
   ],
   "source": [
    "# Creating , Hyperparameter Tuning and Fitting a Random Forest Classifier\n",
    "'''\n",
    "param_grid = {\n",
    "    'n_estimators': [60, 90],\n",
    "    'max_depth': [3,5,7],\n",
    "    'min_samples_split': [2, 5],\n",
    "    'min_samples_leaf': [1, 2],\n",
    "    'max_features': ['sqrt', 'log2', None]\n",
    "} # Defining parameter grid for Grid Search\n",
    "\n",
    "RFC = RandomForestClassifier(class_weight=\"balanced\", random_state=42) # Intializing Classifier\n",
    "\n",
    "grid_search = GridSearchCV(RFC, param_grid, scoring=\"f1\", cv=5, n_jobs=-1, verbose=3) # Applying a GridSearch over the Parameter Grid, whilst scoring on F1 Score\n",
    "grid_search.fit(X_train, y_train)\n",
    "\n",
    "best_params = grid_search.best_params_ # Extracting Best Hyperparameters\n",
    "print(best_params)\n",
    "print(grid_search.best_score_)\n",
    "'''"
   ]
  },
  {
   "cell_type": "code",
   "execution_count": 18,
   "metadata": {},
   "outputs": [
    {
     "name": "stdout",
     "output_type": "stream",
     "text": [
      "building tree 1 of 100building tree 2 of 100\n",
      "\n",
      "building tree 3 of 100\n",
      "building tree 4 of 100\n"
     ]
    },
    {
     "name": "stderr",
     "output_type": "stream",
     "text": [
      "[Parallel(n_jobs=-1)]: Using backend ThreadingBackend with 4 concurrent workers.\n"
     ]
    },
    {
     "name": "stdout",
     "output_type": "stream",
     "text": [
      "building tree 5 of 100\n",
      "building tree 6 of 100\n",
      "building tree 7 of 100\n",
      "building tree 8 of 100\n",
      "building tree 9 of 100\n",
      "building tree 10 of 100\n",
      "building tree 11 of 100\n",
      "building tree 12 of 100\n",
      "building tree 13 of 100\n",
      "building tree 14 of 100\n",
      "building tree 15 of 100\n",
      "building tree 16 of 100\n",
      "building tree 17 of 100\n",
      "building tree 18 of 100\n",
      "building tree 19 of 100\n",
      "building tree 20 of 100\n",
      "building tree 21 of 100\n",
      "building tree 22 of 100\n",
      "building tree 23 of 100\n",
      "building tree 24 of 100\n",
      "building tree 25 of 100\n",
      "building tree 26 of 100\n",
      "building tree 27 of 100\n",
      "building tree 28 of 100\n",
      "building tree 29 of 100\n",
      "building tree 30 of 100\n",
      "building tree 31 of 100\n",
      "building tree 32 of 100\n",
      "building tree 33 of 100\n",
      "building tree 34 of 100\n",
      "building tree 35 of 100\n",
      "building tree 36 of 100\n",
      "building tree 37 of 100\n",
      "building tree 38 of 100\n",
      "building tree 39 of 100\n",
      "building tree 40 of 100\n",
      "building tree 41 of 100\n",
      "building tree 42 of 100\n"
     ]
    },
    {
     "name": "stderr",
     "output_type": "stream",
     "text": [
      "[Parallel(n_jobs=-1)]: Done  33 tasks      | elapsed:    1.0s\n"
     ]
    },
    {
     "name": "stdout",
     "output_type": "stream",
     "text": [
      "building tree 43 of 100\n",
      "building tree 44 of 100\n",
      "building tree 45 of 100\n",
      "building tree 46 of 100\n",
      "building tree 47 of 100\n",
      "building tree 48 of 100\n",
      "building tree 49 of 100\n",
      "building tree 50 of 100\n",
      "building tree 51 of 100\n",
      "building tree 52 of 100\n",
      "building tree 53 of 100\n",
      "building tree 54 of 100\n",
      "building tree 55 of 100\n",
      "building tree 56 of 100\n",
      "building tree 57 of 100\n",
      "building tree 58 of 100\n",
      "building tree 59 of 100\n",
      "building tree 60 of 100\n",
      "building tree 61 of 100\n",
      "building tree 62 of 100\n",
      "building tree 63 of 100\n",
      "building tree 64 of 100\n",
      "building tree 65 of 100\n",
      "building tree 66 of 100\n",
      "building tree 67 of 100\n",
      "building tree 68 of 100\n",
      "building tree 69 of 100\n",
      "building tree 70 of 100\n",
      "building tree 71 of 100\n",
      "building tree 72 of 100\n",
      "building tree 73 of 100\n",
      "building tree 74 of 100\n",
      "building tree 75 of 100\n",
      "building tree 76 of 100\n",
      "building tree 77 of 100\n",
      "building tree 78 of 100\n",
      "building tree 79 of 100building tree 80 of 100\n",
      "building tree 81 of 100\n",
      "\n",
      "building tree 82 of 100\n",
      "building tree 83 of 100\n",
      "building tree 84 of 100\n",
      "building tree 85 of 100\n",
      "building tree 86 of 100\n",
      "building tree 87 of 100\n",
      "building tree 88 of 100\n",
      "building tree 89 of 100building tree 90 of 100\n",
      "\n",
      "building tree 91 of 100\n",
      "building tree 92 of 100\n",
      "building tree 93 of 100\n",
      "building tree 94 of 100\n",
      "building tree 95 of 100\n",
      "building tree 96 of 100\n",
      "building tree 97 of 100\n",
      "building tree 98 of 100\n",
      "building tree 99 of 100\n",
      "building tree 100 of 100\n"
     ]
    },
    {
     "name": "stderr",
     "output_type": "stream",
     "text": [
      "[Parallel(n_jobs=-1)]: Done 100 out of 100 | elapsed:    3.1s finished\n"
     ]
    },
    {
     "name": "stdout",
     "output_type": "stream",
     "text": [
      "0.9998736322549953\n"
     ]
    }
   ],
   "source": [
    "#Defining and Refitting Random Forest Classifier with the best Hyperparameters\n",
    "\n",
    "# RFF = RandomForestClassifier(random_state=42, class_weight=\"balanced\", **best_params)  # If Hypertuned\n",
    "RFC = RandomForestClassifier(\n",
    "    n_estimators=100, criterion='gini',\n",
    "    max_depth=None, max_features=\"sqrt\", \n",
    "    bootstrap=True,\n",
    "    oob_score=True,\n",
    "    n_jobs=-1, \n",
    "    random_state=42,\n",
    "    verbose=2,\n",
    "    class_weight=\"balanced\")\n",
    "\n",
    "RFC.fit(x_train, y_train) # Fit\n",
    "print(RFC.oob_score_)"
   ]
  },
  {
   "cell_type": "code",
   "execution_count": 19,
   "metadata": {},
   "outputs": [
    {
     "name": "stdout",
     "output_type": "stream",
     "text": [
      "              precision    recall  f1-score   support\n",
      "\n",
      "           0       1.00      1.00      1.00     57640\n",
      "           1       0.90      0.56      0.69        16\n",
      "\n",
      "    accuracy                           1.00     57656\n",
      "   macro avg       0.95      0.78      0.85     57656\n",
      "weighted avg       1.00      1.00      1.00     57656\n",
      "\n"
     ]
    },
    {
     "name": "stderr",
     "output_type": "stream",
     "text": [
      "[Parallel(n_jobs=4)]: Using backend ThreadingBackend with 4 concurrent workers.\n",
      "[Parallel(n_jobs=4)]: Done  33 tasks      | elapsed:    0.1s\n",
      "[Parallel(n_jobs=4)]: Done 100 out of 100 | elapsed:    0.1s finished\n"
     ]
    }
   ],
   "source": [
    "# Classification Report\n",
    "\n",
    "# Predict on the test set\n",
    "y_pred = RFC.predict(x_test)\n",
    "\n",
    "# Generate classification report\n",
    "report = classification_report(y_test, y_pred)\n",
    "\n",
    "# Print the classification report\n",
    "print(report)"
   ]
  },
  {
   "cell_type": "code",
   "execution_count": 20,
   "metadata": {},
   "outputs": [
    {
     "data": {
      "text/plain": [
       "0.7812413254684247"
      ]
     },
     "execution_count": 20,
     "metadata": {},
     "output_type": "execute_result"
    }
   ],
   "source": [
    "# ROC AUC Score\n",
    "roc_auc_score(y_test, y_pred)"
   ]
  },
  {
   "cell_type": "markdown",
   "metadata": {},
   "source": [
    "conclusion:"
   ]
  },
  {
   "cell_type": "markdown",
   "metadata": {},
   "source": [
    "1) Which hyperparameter tuning strategy did you use? Grid-search or\n",
    "random-search? Why\n",
    "\n",
    "I used Grid search because it helps to find the best hyperparameter for a  machine learning model. in grid search, used hyperparameter value in the \"param_grid\" dictionary and this search is used to identify the most set of hyperparameters\n",
    "   \n",
    "   \n",
    "2) How did your model's performance change after discovering optimal\n",
    "hyperparameters?\n",
    "\n",
    "\n",
    "during my grid search, i was able to improve my  model pereformance and was able to improve my accuracy and f1 score. \n",
    "\n",
    "3) What was your final F1 Score?\n",
    "based on the report, we can conclude that\n",
    "\n",
    "for class 0 : The F1 score is 1.00\n",
    "\n",
    "for class 1 : The f1 score is 0.69\n",
    "\n",
    "for weighted average :  we can conclude that the accuracy is a very good model performance.\n"
   ]
  },
  {
   "cell_type": "code",
   "execution_count": null,
   "metadata": {},
   "outputs": [],
   "source": []
  }
 ],
 "metadata": {
  "kernelspec": {
   "display_name": "Python 3 (ipykernel)",
   "language": "python",
   "name": "python3"
  },
  "language_info": {
   "codemirror_mode": {
    "name": "ipython",
    "version": 3
   },
   "file_extension": ".py",
   "mimetype": "text/x-python",
   "name": "python",
   "nbconvert_exporter": "python",
   "pygments_lexer": "ipython3",
   "version": "3.11.5"
  }
 },
 "nbformat": 4,
 "nbformat_minor": 2
}
